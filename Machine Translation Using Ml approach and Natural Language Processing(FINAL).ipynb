{
 "cells": [
  {
   "cell_type": "markdown",
   "metadata": {},
   "source": [
    "# Libraries and Configuration Settings\n",
    "\n",
    "As a first step, we will import the required libraries and will configure values for different parameters that we will be using in the code. Let's first import the required libraries:"
   ]
  },
  {
   "cell_type": "code",
   "execution_count": 1,
   "metadata": {},
   "outputs": [],
   "source": [
    "\n",
    "import os, sys\n",
    "\n",
    "from keras.models import Model\n",
    "from keras.layers import Input, LSTM, GRU, Dense, Embedding\n",
    "from keras.preprocessing.text import Tokenizer\n",
    "from keras.preprocessing.sequence import pad_sequences\n",
    "from keras.utils import to_categorical\n",
    "import numpy as np\n",
    "import matplotlib.pyplot as plt\n",
    "from keras.callbacks import ModelCheckpoint\n",
    "from keras.models import load_model\n"
   ]
  },
  {
   "cell_type": "markdown",
   "metadata": {},
   "source": [
    "Execute the following script to set values for different parameters:"
   ]
  },
  {
   "cell_type": "code",
   "execution_count": 2,
   "metadata": {},
   "outputs": [],
   "source": [
    "BATCH_SIZE = 64\n",
    "EPOCHS = 20\n",
    "LSTM_NODES =256\n",
    "NUM_SENTENCES = 25000\n",
    "MAX_SENTENCE_LENGTH = 50\n",
    "MAX_NUM_WORDS = 25000\n",
    "EMBEDDING_SIZE = 100"
   ]
  },
  {
   "cell_type": "markdown",
   "metadata": {},
   "source": [
    "# Data Preprocessing\n",
    "Neural machine translation models are often based on the seq2seq architecture. The seq2seq architecture is an encoder-decoder architecture which consists of two LSTM networks: the encoder LSTM and the decoder LSTM. The input to the encoder LSTM is the sentence in the original language; the input to the decoder LSTM is the sentence in the translated language with a start-of-sentence token. \n",
    "\n",
    "The output is the actual target sentence with an end-of-sentence token.\n",
    "In our dataset, we do not need to process the input, however, we need to generate two copies of the translated sentence: one with the start-of-sentence token and the other with the end-of-sentence token. Here is the script which does that:"
   ]
  },
  {
   "cell_type": "code",
   "execution_count": 3,
   "metadata": {},
   "outputs": [
    {
     "name": "stdout",
     "output_type": "stream",
     "text": [
      "num samples input: 25000\n",
      "num samples output: 25000\n",
      "num samples output input: 25000\n"
     ]
    }
   ],
   "source": [
    "input_sentences = []\n",
    "output_sentences = []\n",
    "output_sentences_inputs = []\n",
    "\n",
    "count = 0\n",
    "for line in open(r'C:\\Users\\Paaras Jamwal\\Dropbox\\My PC (PAARAS)\\Desktop\\Project\\fra.txt', encoding=\"utf-8\"):\n",
    "    count += 1\n",
    "\n",
    "    if count > NUM_SENTENCES:\n",
    "        break\n",
    "\n",
    "    if '\\t' not in line:\n",
    "        continue\n",
    "\n",
    "    input_sentence, output, attrib = line.rstrip().split('\\t')\n",
    "\n",
    "    output_sentence = output + ' <eos>'\n",
    "    output_sentence_input = '<sos> ' + output\n",
    "\n",
    "    input_sentences.append(input_sentence)\n",
    "    output_sentences.append(output_sentence)\n",
    "    output_sentences_inputs.append(output_sentence_input)\n",
    "\n",
    "print(\"num samples input:\", len(input_sentences))\n",
    "print(\"num samples output:\", len(output_sentences))\n",
    "print(\"num samples output input:\", len(output_sentences_inputs))"
   ]
  },
  {
   "cell_type": "markdown",
   "metadata": {},
   "source": [
    "Let's now randomly print a sentence from the input_sentences[], output_sentences[], and output_sentences_inputs[] lists"
   ]
  },
  {
   "cell_type": "code",
   "execution_count": 4,
   "metadata": {},
   "outputs": [
    {
     "name": "stdout",
     "output_type": "stream",
     "text": [
      "Drop it!\n",
      "Laisse-le tomber ! <eos>\n",
      "<sos> Laisse-le tomber !\n"
     ]
    }
   ],
   "source": [
    "print(input_sentences[111])\n",
    "print(output_sentences[111])\n",
    "print(output_sentences_inputs[111])"
   ]
  },
  {
   "cell_type": "markdown",
   "metadata": {},
   "source": [
    "# Tokenization and Padding\n",
    "The tokenizer class performs two tasks:\n",
    "\n",
    "   It divides a sentence into the corresponding list of word\n",
    "   Then it converts the words to integers\n",
    "For tokenization, the Tokenizer class from the keras.preprocessing.text library can be used.\n",
    "    "
   ]
  },
  {
   "cell_type": "markdown",
   "metadata": {},
   "source": [
    "The following script is used to tokenize the input sentences:"
   ]
  },
  {
   "cell_type": "code",
   "execution_count": 5,
   "metadata": {},
   "outputs": [
    {
     "name": "stdout",
     "output_type": "stream",
     "text": [
      "Total unique words in the input: 4014\n",
      "Length of longest sentence in input: 6\n"
     ]
    }
   ],
   "source": [
    "input_tokenizer = Tokenizer(num_words=MAX_NUM_WORDS)\n",
    "input_tokenizer.fit_on_texts(input_sentences)\n",
    "input_integer_seq = input_tokenizer.texts_to_sequences(input_sentences)\n",
    "\n",
    "word2idx_inputs = input_tokenizer.word_index\n",
    "print('Total unique words in the input: %s' % len(word2idx_inputs))\n",
    "\n",
    "max_input_len = max(len(sen) for sen in input_integer_seq)\n",
    "print(\"Length of longest sentence in input: %g\" % max_input_len)"
   ]
  },
  {
   "cell_type": "markdown",
   "metadata": {},
   "source": [
    "The output sentences can also be tokenized in the same way as shown below:"
   ]
  },
  {
   "cell_type": "code",
   "execution_count": 6,
   "metadata": {},
   "outputs": [
    {
     "name": "stdout",
     "output_type": "stream",
     "text": [
      "Total unique words in the output: 11128\n",
      "Length of longest sentence in the output: 13\n"
     ]
    }
   ],
   "source": [
    "output_tokenizer = Tokenizer(num_words=MAX_NUM_WORDS, filters='')\n",
    "output_tokenizer.fit_on_texts(output_sentences + output_sentences_inputs)\n",
    "output_integer_seq = output_tokenizer.texts_to_sequences(output_sentences)\n",
    "output_input_integer_seq = output_tokenizer.texts_to_sequences(output_sentences_inputs)\n",
    "\n",
    "word2idx_outputs = output_tokenizer.word_index\n",
    "print('Total unique words in the output: %s' % len(word2idx_outputs))\n",
    "\n",
    "num_words_output = len(word2idx_outputs) + 1\n",
    "max_out_len = max(len(sen) for sen in output_integer_seq)\n",
    "print(\"Length of longest sentence in the output: %g\" % max_out_len)"
   ]
  },
  {
   "cell_type": "markdown",
   "metadata": {},
   "source": [
    "Next, we need to pad the input. The reason behind padding the input and the output is that text sentences can be of varying length, however LSTM (the algorithm that we are going to train our model) expects input instances with the same length. Therefore, we need to convert our sentences into fixed-length vectors. One way to do this is via padding."
   ]
  },
  {
   "cell_type": "markdown",
   "metadata": {},
   "source": [
    "In padding, a certain length is defined for a sentence. In our case the length of the longest sentence in the inputs and outputs will be used for padding the input and output sentences, respectively. The longest sentence in the input contains 6 words. For the sentences that contain less than 6 words, zeros will be added in the empty indexes. The following script applies padding to the input sentences"
   ]
  },
  {
   "cell_type": "code",
   "execution_count": 7,
   "metadata": {},
   "outputs": [
    {
     "name": "stdout",
     "output_type": "stream",
     "text": [
      "encoder_input_sequences.shape: (25000, 6)\n",
      "encoder_input_sequences[111]: [  0   0   0   0 426   5]\n"
     ]
    }
   ],
   "source": [
    "encoder_input_sequences = pad_sequences(input_integer_seq, maxlen=max_input_len)\n",
    "print(\"encoder_input_sequences.shape:\", encoder_input_sequences.shape)\n",
    "print(\"encoder_input_sequences[111]:\", encoder_input_sequences[111])"
   ]
  },
  {
   "cell_type": "code",
   "execution_count": 8,
   "metadata": {},
   "outputs": [
    {
     "name": "stdout",
     "output_type": "stream",
     "text": [
      "426\n",
      "5\n"
     ]
    }
   ],
   "source": [
    "print(word2idx_inputs[\"drop\"])\n",
    "print(word2idx_inputs[\"it\"])"
   ]
  },
  {
   "cell_type": "markdown",
   "metadata": {},
   "source": [
    "In the same way, the decoder outputs and the decoder inputs are padded as follows:"
   ]
  },
  {
   "cell_type": "code",
   "execution_count": 9,
   "metadata": {},
   "outputs": [
    {
     "name": "stdout",
     "output_type": "stream",
     "text": [
      "decoder_input_sequences.shape: (25000, 13)\n",
      "decoder_input_sequences[111]: [  2 929 425   5   0   0   0   0   0   0   0   0   0]\n"
     ]
    }
   ],
   "source": [
    "decoder_input_sequences = pad_sequences(output_input_integer_seq, maxlen=max_out_len, padding='post')\n",
    "print(\"decoder_input_sequences.shape:\", decoder_input_sequences.shape)\n",
    "print(\"decoder_input_sequences[111]:\", decoder_input_sequences[111])"
   ]
  },
  {
   "cell_type": "code",
   "execution_count": 10,
   "metadata": {},
   "outputs": [
    {
     "name": "stdout",
     "output_type": "stream",
     "text": [
      "2\n",
      "929\n",
      "425\n",
      "5\n"
     ]
    }
   ],
   "source": [
    "print(word2idx_outputs[\"<sos>\"])\n",
    "print(word2idx_outputs[\"laisse-le\"])\n",
    "print(word2idx_outputs[\"tomber\"])\n",
    "print(word2idx_outputs[\"!\"])\n"
   ]
  },
  {
   "cell_type": "markdown",
   "metadata": {},
   "source": [
    "# Word Embeddings\n",
    "In word embeddings, every word is represented as an n-dimensional dense vector. The words that are similar will have similar vector. Word embeddings techniques such as GloVe and Word2Vec have proven to be extremely efficient for converting words into corresponding dense vectors. The vector size is small and none of the indexes in the vector is actually empty.\n",
    "There are two main differences between single integer representation and word embeddings. With integer reprensentation, a word is represented only with a single integer. With vector representation a word is represented by a vector of 50, 100, 200, or whatever dimensions you like. Hence, word embeddings capture a lot more information about words. Secondly, the single-integer representation doesn't capture the relationships between different words.\n"
   ]
  },
  {
   "cell_type": "markdown",
   "metadata": {},
   "source": [
    "--> Let's create word embeddings for the inputs first. To do so, we need to load the GloVe word vectors into memory. We will then create a dictionary where words are the keys and the corresponding vectors are values, as shown below:"
   ]
  },
  {
   "cell_type": "code",
   "execution_count": 11,
   "metadata": {},
   "outputs": [],
   "source": [
    "from numpy import array\n",
    "from numpy import asarray\n",
    "from numpy import zeros\n",
    "\n",
    "embeddings_dictionary = dict()\n",
    "\n",
    "glove_file = open(r'C:\\Users\\Paaras Jamwal\\Dropbox\\My PC (PAARAS)\\Desktop\\Project\\glove.6B.100d.txt', encoding=\"utf8\")\n",
    "\n",
    "for line in glove_file:\n",
    "    records = line.split()\n",
    "    word = records[0]\n",
    "    vector_dimensions = asarray(records[1:], dtype='float32')\n",
    "    embeddings_dictionary[word] = vector_dimensions\n",
    "glove_file.close()"
   ]
  },
  {
   "cell_type": "markdown",
   "metadata": {},
   "source": [
    "We will create a matrix where the row number will represent the integer value for the word and the columns will correspond to the dimensions of the word. This matrix will contain the word embeddings for the words in our input sentences."
   ]
  },
  {
   "cell_type": "code",
   "execution_count": 12,
   "metadata": {},
   "outputs": [],
   "source": [
    "num_words = min(MAX_NUM_WORDS, len(word2idx_inputs) + 1)\n",
    "embedding_matrix = zeros((num_words, EMBEDDING_SIZE))\n",
    "for word, index in word2idx_inputs.items():\n",
    "    embedding_vector = embeddings_dictionary.get(word)\n",
    "    if embedding_vector is not None:\n",
    "        embedding_matrix[index] = embedding_vector"
   ]
  },
  {
   "cell_type": "markdown",
   "metadata": {},
   "source": [
    "Let's first print the word embeddings for the word \"drop\" using the GloVe word embedding dictionary."
   ]
  },
  {
   "cell_type": "code",
   "execution_count": 13,
   "metadata": {},
   "outputs": [
    {
     "name": "stdout",
     "output_type": "stream",
     "text": [
      "[ 0.2934     0.49122    0.021428  -0.0032031 -0.30625   -0.70369\n",
      " -0.02503    0.20014   -0.11357    0.20024   -0.096917   0.24\n",
      " -0.43177    0.12703    0.50062    0.33529   -0.84563    0.23978\n",
      " -0.094769   0.20813    0.85062   -0.14943   -0.10232    0.74019\n",
      "  0.11983   -0.11003   -0.33117   -0.31358   -0.12285   -0.76261\n",
      "  0.29028   -0.0053144 -0.14366    0.14945   -0.25026    0.51785\n",
      "  0.47238   -0.2494     0.069556   0.041659  -0.49759   -0.17819\n",
      " -0.16676   -0.062862   0.55204    0.026228  -0.029453  -0.35108\n",
      " -0.16275   -1.4509     0.52228    0.044831  -0.25485    0.95877\n",
      " -0.11863   -2.002     -0.29194   -0.22581    2.1544     0.17959\n",
      "  0.052697  -0.022561  -0.47654    0.27268    0.15112    0.13092\n",
      "  0.17475   -0.20071    0.12448   -0.05814   -0.12978    0.24495\n",
      " -0.11701    0.22073   -0.061256   0.015408  -0.33155   -0.020674\n",
      "  0.13623    0.24073    0.63338   -0.11291   -0.75424   -0.27938\n",
      " -0.85368   -1.7428     0.2717    -0.23938    0.3652     0.1187\n",
      " -0.28925    0.41028   -0.70196   -0.45214   -0.56019   -0.25353\n",
      "  0.29411    0.13287    0.53376   -0.60402  ]\n"
     ]
    }
   ],
   "source": [
    "print(embeddings_dictionary[\"drop\"])"
   ]
  },
  {
   "cell_type": "code",
   "execution_count": 14,
   "metadata": {},
   "outputs": [
    {
     "name": "stdout",
     "output_type": "stream",
     "text": [
      "[-0.04352    -0.14816999  0.4887     -0.73157001 -0.27412    -0.2209\n",
      " -0.3089     -0.27377    -0.60622001 -0.70490003  0.10406     0.57046998\n",
      "  0.015561   -0.23216     0.48221999  0.27009001 -0.085793    0.6049\n",
      " -0.34283999  0.55571002  0.47641999  0.032829    0.41442999 -0.81572998\n",
      "  0.80233997  0.66843998 -0.99586999 -0.10888     0.27638999 -0.29908001\n",
      " -0.80385     0.39616001  0.015443    0.36917999  0.25073001  0.15033001\n",
      " -0.65483999  0.1781      0.22781999  0.16301    -0.26587999  0.054827\n",
      " -0.17984    -0.25613999  0.11202     0.35409001  0.35001999 -0.59873003\n",
      " -0.48477    -0.36230999 -0.10032     0.74190998 -0.19666     0.96941\n",
      " -0.25966999 -1.77740002 -0.95845997  0.14345001  1.47029996  0.098012\n",
      " -0.71111     0.28937    -0.20434     0.22107001  0.40270999  0.17397\n",
      "  0.75147003 -0.36158001  0.14086001 -0.085578   -0.54237002 -0.48543\n",
      "  0.43897    -0.040572   -0.24056999 -0.16117001 -0.96548998 -0.16031\n",
      "  0.68133998  0.31393     0.66152     0.0049498  -0.45455    -0.51831001\n",
      " -1.10430002 -0.69862002  0.65270001  0.25178999 -0.43132001  0.47758999\n",
      "  0.082872    0.27206999  0.065099   -1.21580005 -0.35774001 -0.17990001\n",
      " -0.23054001  0.41599     0.019987   -0.071685  ]\n"
     ]
    }
   ],
   "source": [
    "print(embedding_matrix[340])"
   ]
  },
  {
   "cell_type": "markdown",
   "metadata": {},
   "source": [
    "This word embedding matrix will be used to create the embedding layer for our LSTM model."
   ]
  },
  {
   "cell_type": "markdown",
   "metadata": {},
   "source": [
    "The following script creates the embedding layer for the input:"
   ]
  },
  {
   "cell_type": "code",
   "execution_count": 15,
   "metadata": {},
   "outputs": [],
   "source": [
    "embedding_layer = Embedding(num_words, EMBEDDING_SIZE, weights=[embedding_matrix], input_length=max_input_len)"
   ]
  },
  {
   "cell_type": "markdown",
   "metadata": {},
   "source": [
    "# Phase 2 \n",
    "# Creating the Model"
   ]
  },
  {
   "cell_type": "markdown",
   "metadata": {},
   "source": [
    "The following script creates the empty output array:"
   ]
  },
  {
   "cell_type": "code",
   "execution_count": 16,
   "metadata": {},
   "outputs": [],
   "source": [
    "decoder_targets_one_hot = np.zeros((\n",
    "        len(input_sentences),\n",
    "        max_out_len,\n",
    "        num_words_output\n",
    "    ),\n",
    "    dtype='float32'\n",
    ")"
   ]
  },
  {
   "cell_type": "markdown",
   "metadata": {},
   "source": [
    "The following script prints the shape of the decoder:"
   ]
  },
  {
   "cell_type": "code",
   "execution_count": 17,
   "metadata": {},
   "outputs": [
    {
     "data": {
      "text/plain": [
       "(25000, 13, 11129)"
      ]
     },
     "execution_count": 17,
     "metadata": {},
     "output_type": "execute_result"
    }
   ],
   "source": [
    "decoder_targets_one_hot.shape"
   ]
  },
  {
   "cell_type": "markdown",
   "metadata": {},
   "source": [
    "To make predictions, the final layer of the model will be a dense layer, therefore we need the outputs in the form of one-hot encoded vectors, since we will be using softmax activation function at the dense layer. To create such one-hot encoded output, the next step is to assign 1 to the column number that corresponds to the integer representation of the word. For instance, the integer representation for <sos> je suis malade is [ 2 3 6 188 0 0 0 0 0 0 0 ]. In the decoder_targets_one_hot output array, in the second column of the first row, 1 will be inserted. Similarly, at the third index of the second row, another 1 will be inserted, and so on."
   ]
  },
  {
   "cell_type": "code",
   "execution_count": 18,
   "metadata": {},
   "outputs": [],
   "source": [
    "decoder_output_sequences = pad_sequences(output_integer_seq, maxlen=max_out_len, padding='post')"
   ]
  },
  {
   "cell_type": "code",
   "execution_count": 19,
   "metadata": {},
   "outputs": [],
   "source": [
    "for i, d in enumerate(decoder_output_sequences):\n",
    "    for t, word in enumerate(d):\n",
    "        decoder_targets_one_hot[i, t, word] = 1"
   ]
  },
  {
   "cell_type": "markdown",
   "metadata": {},
   "source": [
    "Next, we need to create the encoder and decoders. The input to the encoder will be the sentence in English and the output will be the hidden state and cell state of the LSTM."
   ]
  },
  {
   "cell_type": "markdown",
   "metadata": {},
   "source": [
    "The following script defines the encoder:"
   ]
  },
  {
   "cell_type": "code",
   "execution_count": 20,
   "metadata": {},
   "outputs": [],
   "source": [
    "encoder_inputs_placeholder = Input(shape=(max_input_len,))\n",
    "x = embedding_layer(encoder_inputs_placeholder)\n",
    "encoder = LSTM(LSTM_NODES, return_state=True)\n",
    "\n",
    "encoder_outputs, h, c = encoder(x)\n",
    "encoder_states = [h, c]"
   ]
  },
  {
   "cell_type": "markdown",
   "metadata": {},
   "source": [
    "The next step is to define the decoder. The decoder will have two inputs: the hidden state and cell state from the encoder and the input sentence, which actually will be the output sentence with an <sos> token appended at the beginning.\n",
    "\n",
    "The following script creates the decoder LSTM"
   ]
  },
  {
   "cell_type": "code",
   "execution_count": 21,
   "metadata": {},
   "outputs": [],
   "source": [
    "decoder_inputs_placeholder = Input(shape=(max_out_len,))\n",
    "\n",
    "decoder_embedding = Embedding(num_words_output, LSTM_NODES)\n",
    "decoder_inputs_x = decoder_embedding(decoder_inputs_placeholder)\n",
    "\n",
    "decoder_lstm = LSTM(LSTM_NODES, return_sequences=True, return_state=True)\n",
    "decoder_outputs, _, _ = decoder_lstm(decoder_inputs_x, initial_state=encoder_states)"
   ]
  },
  {
   "cell_type": "markdown",
   "metadata": {},
   "source": [
    "Finally, the output from the decoder LSTM is passed through a dense layer to predict decoder outputs, as shown here"
   ]
  },
  {
   "cell_type": "code",
   "execution_count": 22,
   "metadata": {},
   "outputs": [],
   "source": [
    "decoder_dense = Dense(num_words_output, activation='softmax')\n",
    "decoder_outputs = decoder_dense(decoder_outputs)"
   ]
  },
  {
   "cell_type": "markdown",
   "metadata": {},
   "source": [
    "The next step is to compile the model:"
   ]
  },
  {
   "cell_type": "code",
   "execution_count": 23,
   "metadata": {},
   "outputs": [],
   "source": [
    "model = Model([encoder_inputs_placeholder,\n",
    "  decoder_inputs_placeholder], decoder_outputs)\n",
    "model.compile(\n",
    "    optimizer='rmsprop',\n",
    "    loss='categorical_crossentropy',\n",
    "    metrics=['accuracy']\n",
    ")"
   ]
  },
  {
   "cell_type": "markdown",
   "metadata": {},
   "source": [
    "Let's plot our model to see how it looks:"
   ]
  },
  {
   "cell_type": "code",
   "execution_count": 24,
   "metadata": {},
   "outputs": [
    {
     "data": {
      "image/png": "[encoded data removed]",
      "text/plain": [
       "<IPython.core.display.Image object>"
      ]
     },
     "execution_count": 24,
     "metadata": {},
     "output_type": "execute_result"
    }
   ],
   "source": [
    "from keras.utils import plot_model\n",
    "plot_model(model, to_file='model_plot4a.png', show_shapes=True, show_layer_names=True)"
   ]
  },
  {
   "cell_type": "markdown",
   "metadata": {},
   "source": [
    "From the output, you can see that we have two types of input. input_1 is the input placeholder for the encoder, which is embedded and passed through lstm_1 layer, which basically is the encoder LSTM. There are three outputs from the lstm_1 layer: the output, the hidden layer and the cell state. However, only the cell state and the hidden state are passed to the decoder.\n",
    "\n",
    "Here the lstm_2 layer is the decoder LSTM. The input_2 contains the output sentences with <sos> token appended at the start. The input_2 is also passed through an embedding layer and is used as input to the decoder LSTM, lstm_2. Finally, the output from the decoder LSTM is passed through the dense layer to make predictions.\n"
   ]
  },
  {
   "cell_type": "markdown",
   "metadata": {},
   "source": [
    "The next step is to train the model using the fit() method:"
   ]
  },
  {
   "cell_type": "code",
   "execution_count": 25,
   "metadata": {},
   "outputs": [
    {
     "name": "stdout",
     "output_type": "stream",
     "text": [
      "Epoch 1/20\n",
      "352/352 [==============================] - ETA: 0s - loss: 2.0259 - accuracy: 0.7178\n",
      "Epoch 00001: val_loss improved from inf to 2.02030, saving model to model.h1.20_mar_21\n",
      "WARNING:tensorflow:From D:\\ML1\\sample_project_1\\env\\lib\\site-packages\\tensorflow\\python\\training\\tracking\\tracking.py:111: Model.state_updates (from tensorflow.python.keras.engine.training) is deprecated and will be removed in a future version.\n",
      "Instructions for updating:\n",
      "This property should not be used in TensorFlow 2.0, as updates are applied automatically.\n",
      "WARNING:tensorflow:From D:\\ML1\\sample_project_1\\env\\lib\\site-packages\\tensorflow\\python\\training\\tracking\\tracking.py:111: Layer.updates (from tensorflow.python.keras.engine.base_layer) is deprecated and will be removed in a future version.\n",
      "Instructions for updating:\n",
      "This property should not be used in TensorFlow 2.0, as updates are applied automatically.\n",
      "INFO:tensorflow:Assets written to: model.h1.20_mar_21\\assets\n",
      "352/352 [==============================] - 152s 433ms/step - loss: 2.0259 - accuracy: 0.7178 - val_loss: 2.0203 - val_accuracy: 0.7082\n",
      "Epoch 2/20\n",
      "352/352 [==============================] - ETA: 0s - loss: 1.4858 - accuracy: 0.7791\n",
      "Epoch 00002: val_loss improved from 2.02030 to 1.74573, saving model to model.h1.20_mar_21\n",
      "INFO:tensorflow:Assets written to: model.h1.20_mar_21\\assets\n",
      "352/352 [==============================] - 161s 456ms/step - loss: 1.4858 - accuracy: 0.7791 - val_loss: 1.7457 - val_accuracy: 0.7427\n",
      "Epoch 3/20\n",
      "352/352 [==============================] - ETA: 0s - loss: 1.2790 - accuracy: 0.8087\n",
      "Epoch 00003: val_loss improved from 1.74573 to 1.62472, saving model to model.h1.20_mar_21\n",
      "INFO:tensorflow:Assets written to: model.h1.20_mar_21\\assets\n",
      "352/352 [==============================] - 167s 473ms/step - loss: 1.2790 - accuracy: 0.8087 - val_loss: 1.6247 - val_accuracy: 0.7637\n",
      "Epoch 4/20\n",
      "352/352 [==============================] - ETA: 0s - loss: 1.1562 - accuracy: 0.8240\n",
      "Epoch 00004: val_loss improved from 1.62472 to 1.55183, saving model to model.h1.20_mar_21\n",
      "INFO:tensorflow:Assets written to: model.h1.20_mar_21\\assets\n",
      "352/352 [==============================] - 161s 458ms/step - loss: 1.1562 - accuracy: 0.8240 - val_loss: 1.5518 - val_accuracy: 0.7729\n",
      "Epoch 5/20\n",
      "352/352 [==============================] - ETA: 0s - loss: 1.0656 - accuracy: 0.8351\n",
      "Epoch 00005: val_loss improved from 1.55183 to 1.49490, saving model to model.h1.20_mar_21\n",
      "INFO:tensorflow:Assets written to: model.h1.20_mar_21\\assets\n",
      "352/352 [==============================] - 161s 457ms/step - loss: 1.0656 - accuracy: 0.8351 - val_loss: 1.4949 - val_accuracy: 0.7807\n",
      "Epoch 6/20\n",
      "352/352 [==============================] - ETA: 0s - loss: 0.9933 - accuracy: 0.8445\n",
      "Epoch 00006: val_loss improved from 1.49490 to 1.46401, saving model to model.h1.20_mar_21\n",
      "INFO:tensorflow:Assets written to: model.h1.20_mar_21\\assets\n",
      "352/352 [==============================] - 162s 459ms/step - loss: 0.9933 - accuracy: 0.8445 - val_loss: 1.4640 - val_accuracy: 0.7845\n",
      "Epoch 7/20\n",
      "352/352 [==============================] - ETA: 0s - loss: 0.9378 - accuracy: 0.8522\n",
      "Epoch 00007: val_loss improved from 1.46401 to 1.45595, saving model to model.h1.20_mar_21\n",
      "INFO:tensorflow:Assets written to: model.h1.20_mar_21\\assets\n",
      "352/352 [==============================] - 156s 443ms/step - loss: 0.9378 - accuracy: 0.8522 - val_loss: 1.4560 - val_accuracy: 0.7876\n",
      "Epoch 8/20\n",
      "352/352 [==============================] - ETA: 0s - loss: 0.8928 - accuracy: 0.8593\n",
      "Epoch 00008: val_loss improved from 1.45595 to 1.44433, saving model to model.h1.20_mar_21\n",
      "INFO:tensorflow:Assets written to: model.h1.20_mar_21\\assets\n",
      "352/352 [==============================] - 157s 446ms/step - loss: 0.8928 - accuracy: 0.8593 - val_loss: 1.4443 - val_accuracy: 0.7888\n",
      "Epoch 9/20\n",
      "352/352 [==============================] - ETA: 0s - loss: 0.8495 - accuracy: 0.8658\n",
      "Epoch 00009: val_loss improved from 1.44433 to 1.43720, saving model to model.h1.20_mar_21\n",
      "INFO:tensorflow:Assets written to: model.h1.20_mar_21\\assets\n",
      "352/352 [==============================] - 157s 446ms/step - loss: 0.8495 - accuracy: 0.8658 - val_loss: 1.4372 - val_accuracy: 0.7899\n",
      "Epoch 10/20\n",
      "352/352 [==============================] - ETA: 0s - loss: 0.8121 - accuracy: 0.8718\n",
      "Epoch 00010: val_loss did not improve from 1.43720\n",
      "352/352 [==============================] - 152s 432ms/step - loss: 0.8121 - accuracy: 0.8718 - val_loss: 1.4403 - val_accuracy: 0.7896\n",
      "Epoch 11/20\n",
      "352/352 [==============================] - ETA: 0s - loss: 0.7852 - accuracy: 0.8768\n",
      "Epoch 00011: val_loss did not improve from 1.43720\n",
      "352/352 [==============================] - 144s 409ms/step - loss: 0.7852 - accuracy: 0.8768 - val_loss: 1.4494 - val_accuracy: 0.7904\n",
      "Epoch 12/20\n",
      "352/352 [==============================] - ETA: 0s - loss: 0.7611 - accuracy: 0.8813\n",
      "Epoch 00012: val_loss did not improve from 1.43720\n",
      "352/352 [==============================] - 145s 411ms/step - loss: 0.7611 - accuracy: 0.8813 - val_loss: 1.4548 - val_accuracy: 0.7916\n",
      "Epoch 13/20\n",
      "352/352 [==============================] - ETA: 0s - loss: 0.7385 - accuracy: 0.8851\n",
      "Epoch 00013: val_loss did not improve from 1.43720\n",
      "352/352 [==============================] - 140s 399ms/step - loss: 0.7385 - accuracy: 0.8851 - val_loss: 1.4596 - val_accuracy: 0.7922\n",
      "Epoch 14/20\n",
      "352/352 [==============================] - ETA: 0s - loss: 0.7177 - accuracy: 0.8891\n",
      "Epoch 00014: val_loss did not improve from 1.43720\n",
      "352/352 [==============================] - 141s 400ms/step - loss: 0.7177 - accuracy: 0.8891 - val_loss: 1.4602 - val_accuracy: 0.7911\n",
      "Epoch 15/20\n",
      "352/352 [==============================] - ETA: 0s - loss: 0.6958 - accuracy: 0.8925\n",
      "Epoch 00015: val_loss did not improve from 1.43720\n",
      "352/352 [==============================] - 153s 436ms/step - loss: 0.6958 - accuracy: 0.8925 - val_loss: 1.4765 - val_accuracy: 0.7926\n",
      "Epoch 16/20\n",
      "352/352 [==============================] - ETA: 0s - loss: 0.6748 - accuracy: 0.8954\n",
      "Epoch 00016: val_loss did not improve from 1.43720\n",
      "352/352 [==============================] - 144s 409ms/step - loss: 0.6748 - accuracy: 0.8954 - val_loss: 1.4946 - val_accuracy: 0.7925\n",
      "Epoch 17/20\n",
      "352/352 [==============================] - ETA: 0s - loss: 0.6604 - accuracy: 0.8985\n",
      "Epoch 00017: val_loss did not improve from 1.43720\n",
      "352/352 [==============================] - 144s 410ms/step - loss: 0.6604 - accuracy: 0.8985 - val_loss: 1.5022 - val_accuracy: 0.7914\n",
      "Epoch 18/20\n",
      "352/352 [==============================] - ETA: 0s - loss: 0.6525 - accuracy: 0.9005\n",
      "Epoch 00018: val_loss did not improve from 1.43720\n",
      "352/352 [==============================] - 148s 420ms/step - loss: 0.6525 - accuracy: 0.9005 - val_loss: 1.5251 - val_accuracy: 0.7903\n",
      "Epoch 19/20\n",
      "352/352 [==============================] - ETA: 0s - loss: 0.6449 - accuracy: 0.9031\n",
      "Epoch 00019: val_loss did not improve from 1.43720\n",
      "352/352 [==============================] - 150s 426ms/step - loss: 0.6449 - accuracy: 0.9031 - val_loss: 1.5344 - val_accuracy: 0.7914\n",
      "Epoch 20/20\n",
      "352/352 [==============================] - ETA: 0s - loss: 0.6360 - accuracy: 0.9047\n",
      "Epoch 00020: val_loss did not improve from 1.43720\n",
      "352/352 [==============================] - 158s 448ms/step - loss: 0.6360 - accuracy: 0.9047 - val_loss: 1.5448 - val_accuracy: 0.7907\n"
     ]
    }
   ],
   "source": [
    "filename = 'model.h1.20_mar_21'\n",
    "checkpoint = ModelCheckpoint(filename, monitor='val_loss', verbose=1, save_best_only=True, mode='min')\n",
    "\n",
    "r = model.fit(\n",
    "    [encoder_input_sequences, decoder_input_sequences],\n",
    "    decoder_targets_one_hot,\n",
    "    batch_size=BATCH_SIZE,\n",
    "    epochs=EPOCHS,\n",
    "    validation_split=0.1,\n",
    "    callbacks=[checkpoint], verbose=1\n",
    ")"
   ]
  },
  {
   "cell_type": "markdown",
   "metadata": {},
   "source": []
  },
  {
   "cell_type": "markdown",
   "metadata": {},
   "source": [
    "# Modifying the Model for Predictions"
   ]
  },
  {
   "cell_type": "code",
   "execution_count": 35,
   "metadata": {},
   "outputs": [],
   "source": [
    "model = load_model('model.h1.20_mar_21')\n",
    "encoder_model = Model(encoder_inputs_placeholder, encoder_states)"
   ]
  },
  {
   "cell_type": "markdown",
   "metadata": {},
   "source": [
    "Since now at each step we need the decoder hidden and cell states, we will modify our model to accept the hidden and cell states as shown below:"
   ]
  },
  {
   "cell_type": "code",
   "execution_count": 36,
   "metadata": {},
   "outputs": [],
   "source": [
    "decoder_state_input_h = Input(shape=(LSTM_NODES,))\n",
    "decoder_state_input_c = Input(shape=(LSTM_NODES,))\n",
    "decoder_states_inputs = [decoder_state_input_h, decoder_state_input_c]"
   ]
  },
  {
   "cell_type": "markdown",
   "metadata": {},
   "source": [
    "Now at each time step, there will be only single word in the decoder input, we need to modify the decoder embedding layer as follows:\n",
    "\n"
   ]
  },
  {
   "cell_type": "code",
   "execution_count": 37,
   "metadata": {},
   "outputs": [],
   "source": [
    "decoder_inputs_single = Input(shape=(1,))\n",
    "decoder_inputs_single_x = decoder_embedding(decoder_inputs_single)"
   ]
  },
  {
   "cell_type": "markdown",
   "metadata": {},
   "source": [
    "Next, we need to create the placeholder for decoder outputs:"
   ]
  },
  {
   "cell_type": "code",
   "execution_count": 38,
   "metadata": {},
   "outputs": [],
   "source": [
    "decoder_outputs, h, c = decoder_lstm(decoder_inputs_single_x, initial_state=decoder_states_inputs)"
   ]
  },
  {
   "cell_type": "markdown",
   "metadata": {},
   "source": [
    "To make predictions, the decoder output is passed through the dense layer:"
   ]
  },
  {
   "cell_type": "code",
   "execution_count": 39,
   "metadata": {},
   "outputs": [],
   "source": [
    "decoder_states = [h, c]\n",
    "decoder_outputs = decoder_dense(decoder_outputs)"
   ]
  },
  {
   "cell_type": "markdown",
   "metadata": {},
   "source": [
    "The final step is to define the updated decoder model, as shown here:"
   ]
  },
  {
   "cell_type": "code",
   "execution_count": 40,
   "metadata": {},
   "outputs": [],
   "source": [
    "decoder_model = Model(\n",
    "    [decoder_inputs_single] + decoder_states_inputs,\n",
    "    [decoder_outputs] + decoder_states\n",
    ")"
   ]
  },
  {
   "cell_type": "markdown",
   "metadata": {},
   "source": [
    "Let's now plot our modified decoder LSTM that makes predictions:"
   ]
  },
  {
   "cell_type": "code",
   "execution_count": 41,
   "metadata": {},
   "outputs": [
    {
     "data": {
      "image/png": "[encoded data removed]",
      "text/plain": [
       "<IPython.core.display.Image object>"
      ]
     },
     "execution_count": 41,
     "metadata": {},
     "output_type": "execute_result"
    }
   ],
   "source": [
    "from keras.utils import plot_model\n",
    "plot_model(decoder_model, to_file='model_plot_dec.png', show_shapes=True, show_layer_names=True)"
   ]
  },
  {
   "cell_type": "markdown",
   "metadata": {},
   "source": [
    "# Making Predictions"
   ]
  },
  {
   "cell_type": "code",
   "execution_count": 42,
   "metadata": {},
   "outputs": [],
   "source": [
    "idx2word_input = {v:k for k, v in word2idx_inputs.items()}\n",
    "idx2word_target = {v:k for k, v in word2idx_outputs.items()}"
   ]
  },
  {
   "cell_type": "code",
   "execution_count": 43,
   "metadata": {},
   "outputs": [],
   "source": [
    "def translate_sentence(input_seq):\n",
    "    states_value = encoder_model.predict(input_seq)\n",
    "    target_seq = np.zeros((1, 1))\n",
    "    target_seq[0, 0] = word2idx_outputs['<sos>']\n",
    "    eos = word2idx_outputs['<eos>']\n",
    "    output_sentence = []\n",
    "\n",
    "    for _ in range(max_out_len):\n",
    "        output_tokens, h, c = decoder_model.predict([target_seq] + states_value)\n",
    "        idx = np.argmax(output_tokens[0, 0, :])\n",
    "\n",
    "        if eos == idx:\n",
    "            break\n",
    "\n",
    "        word = ''\n",
    "\n",
    "        if idx > 0:\n",
    "            word = idx2word_target[idx]\n",
    "            output_sentence.append(word)\n",
    "\n",
    "        target_seq[0, 0] = idx\n",
    "        states_value = [h, c]\n",
    "\n",
    "    return ' '.join(output_sentence)"
   ]
  },
  {
   "cell_type": "markdown",
   "metadata": {},
   "source": [
    "# Testing the Model"
   ]
  },
  {
   "cell_type": "code",
   "execution_count": 51,
   "metadata": {},
   "outputs": [
    {
     "name": "stdout",
     "output_type": "stream",
     "text": [
      "-\n",
      "Input: I looked away.\n",
      "Response: j'ai aimé la maison.\n"
     ]
    }
   ],
   "source": [
    "i = np.random.choice(len(input_sentences))\n",
    "input_seq = encoder_input_sequences[i:i+1]\n",
    "translation = translate_sentence(input_seq)\n",
    "print('-')\n",
    "print('Input:', input_sentences[i])\n",
    "print('Response:', translation)"
   ]
  },
  {
   "cell_type": "code",
   "execution_count": 37,
   "metadata": {},
   "outputs": [],
   "source": [
    " model.save_weights('saved_weights.hdf5', overwrite=True)"
   ]
  },
  {
   "cell_type": "markdown",
   "metadata": {},
   "source": [
    "model.load_weights(\"saved_weights.hdf5\")"
   ]
  },
  {
   "cell_type": "code",
   "execution_count": null,
   "metadata": {},
   "outputs": [],
   "source": []
  }
 ],
 "metadata": {
  "kernelspec": {
   "display_name": "Python 3",
   "language": "python",
   "name": "python3"
  },
  "language_info": {
   "codemirror_mode": {
    "name": "ipython",
    "version": 3
   },
   "file_extension": ".py",
   "mimetype": "text/x-python",
   "name": "python",
   "nbconvert_exporter": "python",
   "pygments_lexer": "ipython3",
   "version": "3.8.3"
  }
 },
 "nbformat": 4,
 "nbformat_minor": 4
}
